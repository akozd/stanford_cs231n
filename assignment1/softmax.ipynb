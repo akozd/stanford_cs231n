{
 "cells": [
  {
   "cell_type": "markdown",
   "metadata": {},
   "source": [
    "# Softmax exercise\n",
    "\n",
    "*Complete and hand in this completed worksheet (including its outputs and any supporting code outside of the worksheet) with your assignment submission. For more details see the [assignments page](http://vision.stanford.edu/teaching/cs231n/assignments.html) on the course website.*\n",
    "\n",
    "This exercise is analogous to the SVM exercise. You will:\n",
    "\n",
    "- implement a fully-vectorized **loss function** for the Softmax classifier\n",
    "- implement the fully-vectorized expression for its **analytic gradient**\n",
    "- **check your implementation** with numerical gradient\n",
    "- use a validation set to **tune the learning rate and regularization** strength\n",
    "- **optimize** the loss function with **SGD**\n",
    "- **visualize** the final learned weights\n"
   ]
  },
  {
   "cell_type": "code",
   "execution_count": 1,
   "metadata": {},
   "outputs": [],
   "source": [
    "import random\n",
    "import numpy as np\n",
    "from cs231n.data_utils import load_CIFAR10\n",
    "import matplotlib.pyplot as plt\n",
    "\n",
    "from __future__ import print_function\n",
    "\n",
    "%matplotlib inline\n",
    "plt.rcParams['figure.figsize'] = (10.0, 8.0) # set default size of plots\n",
    "plt.rcParams['image.interpolation'] = 'nearest'\n",
    "plt.rcParams['image.cmap'] = 'gray'\n",
    "\n",
    "# for auto-reloading extenrnal modules\n",
    "# see http://stackoverflow.com/questions/1907993/autoreload-of-modules-in-ipython\n",
    "%load_ext autoreload\n",
    "%autoreload 2"
   ]
  },
  {
   "cell_type": "code",
   "execution_count": 2,
   "metadata": {},
   "outputs": [
    {
     "name": "stdout",
     "output_type": "stream",
     "text": [
      "Train data shape:  (49000, 3073)\n",
      "Train labels shape:  (49000,)\n",
      "Validation data shape:  (1000, 3073)\n",
      "Validation labels shape:  (1000,)\n",
      "Test data shape:  (1000, 3073)\n",
      "Test labels shape:  (1000,)\n",
      "dev data shape:  (500, 3073)\n",
      "dev labels shape:  (500,)\n"
     ]
    }
   ],
   "source": [
    "def get_CIFAR10_data(num_training=49000, num_validation=1000, num_test=1000, num_dev=500):\n",
    "    \"\"\"\n",
    "    Load the CIFAR-10 dataset from disk and perform preprocessing to prepare\n",
    "    it for the linear classifier. These are the same steps as we used for the\n",
    "    SVM, but condensed to a single function.  \n",
    "    \"\"\"\n",
    "    # Load the raw CIFAR-10 data\n",
    "    cifar10_dir = 'cs231n/datasets/cifar-10-batches-py'\n",
    "    \n",
    "    X_train, y_train, X_test, y_test = load_CIFAR10(cifar10_dir)\n",
    "    \n",
    "    # subsample the data\n",
    "    mask = list(range(num_training, num_training + num_validation))\n",
    "    X_val = X_train[mask]\n",
    "    y_val = y_train[mask]\n",
    "    mask = list(range(num_training))\n",
    "    X_train = X_train[mask]\n",
    "    y_train = y_train[mask]\n",
    "    mask = list(range(num_test))\n",
    "    X_test = X_test[mask]\n",
    "    y_test = y_test[mask]\n",
    "    mask = np.random.choice(num_training, num_dev, replace=False)\n",
    "    X_dev = X_train[mask]\n",
    "    y_dev = y_train[mask]\n",
    "    \n",
    "    # Preprocessing: reshape the image data into rows\n",
    "    X_train = np.reshape(X_train, (X_train.shape[0], -1))\n",
    "    X_val = np.reshape(X_val, (X_val.shape[0], -1))\n",
    "    X_test = np.reshape(X_test, (X_test.shape[0], -1))\n",
    "    X_dev = np.reshape(X_dev, (X_dev.shape[0], -1))\n",
    "    \n",
    "    # Normalize the data: subtract the mean image\n",
    "    mean_image = np.mean(X_train, axis = 0)\n",
    "    X_train -= mean_image\n",
    "    X_val -= mean_image\n",
    "    X_test -= mean_image\n",
    "    X_dev -= mean_image\n",
    "    \n",
    "    # add bias dimension and transform into columns\n",
    "    X_train = np.hstack([X_train, np.ones((X_train.shape[0], 1))])\n",
    "    X_val = np.hstack([X_val, np.ones((X_val.shape[0], 1))])\n",
    "    X_test = np.hstack([X_test, np.ones((X_test.shape[0], 1))])\n",
    "    X_dev = np.hstack([X_dev, np.ones((X_dev.shape[0], 1))])\n",
    "    \n",
    "    return X_train, y_train, X_val, y_val, X_test, y_test, X_dev, y_dev\n",
    "\n",
    "\n",
    "# Cleaning up variables to prevent loading data multiple times (which may cause memory issue)\n",
    "try:\n",
    "   del X_train, y_train\n",
    "   del X_test, y_test\n",
    "   print('Clear previously loaded data.')\n",
    "except:\n",
    "   pass\n",
    "\n",
    "# Invoke the above function to get our data.\n",
    "X_train, y_train, X_val, y_val, X_test, y_test, X_dev, y_dev = get_CIFAR10_data()\n",
    "print('Train data shape: ', X_train.shape)\n",
    "print('Train labels shape: ', y_train.shape)\n",
    "print('Validation data shape: ', X_val.shape)\n",
    "print('Validation labels shape: ', y_val.shape)\n",
    "print('Test data shape: ', X_test.shape)\n",
    "print('Test labels shape: ', y_test.shape)\n",
    "print('dev data shape: ', X_dev.shape)\n",
    "print('dev labels shape: ', y_dev.shape)"
   ]
  },
  {
   "cell_type": "markdown",
   "metadata": {},
   "source": [
    "## Softmax Classifier\n",
    "\n",
    "Your code for this section will all be written inside **cs231n/classifiers/softmax.py**. \n"
   ]
  },
  {
   "cell_type": "code",
   "execution_count": 29,
   "metadata": {},
   "outputs": [
    {
     "name": "stdout",
     "output_type": "stream",
     "text": [
      "loss: 2.381299\n",
      "sanity check: 2.302585\n"
     ]
    }
   ],
   "source": [
    "# First implement the naive softmax loss function with nested loops.\n",
    "# Open the file cs231n/classifiers/softmax.py and implement the\n",
    "# softmax_loss_naive function.\n",
    "\n",
    "from cs231n.classifiers.softmax import softmax_loss_naive\n",
    "import time\n",
    "\n",
    "# Generate a random softmax weight matrix and use it to compute the loss.\n",
    "W = np.random.randn(3073, 10) * 0.0001\n",
    "loss, grad = softmax_loss_naive(W, X_dev, y_dev, 0.0)\n",
    "\n",
    "# As a rough sanity check, our loss should be something close to -log(0.1).\n",
    "print('loss: %f' % loss)\n",
    "print('sanity check: %f' % (-np.log(0.1)))"
   ]
  },
  {
   "cell_type": "markdown",
   "metadata": {},
   "source": [
    "## Inline Question 1:\n",
    "Why do we expect our loss to be close to -log(0.1)? Explain briefly.**\n",
    "\n",
    "**Your answer:** *Fill this in*\n"
   ]
  },
  {
   "cell_type": "code",
   "execution_count": 36,
   "metadata": {},
   "outputs": [
    {
     "name": "stdout",
     "output_type": "stream",
     "text": [
      "numerical: -0.488758 analytic: -0.488758, relative error: 2.361092e-08\n",
      "numerical: -0.137421 analytic: -0.137421, relative error: 3.611854e-09\n",
      "numerical: 2.339750 analytic: 2.339750, relative error: 1.834158e-08\n",
      "numerical: 1.055567 analytic: 1.055567, relative error: 1.558361e-08\n",
      "numerical: 3.448468 analytic: 3.448468, relative error: 2.185295e-08\n",
      "numerical: 0.761492 analytic: 0.761492, relative error: 5.760819e-09\n",
      "numerical: 1.325432 analytic: 1.325432, relative error: 7.209720e-08\n",
      "numerical: -0.842160 analytic: -0.842160, relative error: 2.722701e-08\n",
      "numerical: 1.723243 analytic: 1.723243, relative error: 1.819974e-08\n",
      "numerical: -0.417083 analytic: -0.417083, relative error: 2.501544e-08\n",
      "numerical: -0.578412 analytic: -0.578412, relative error: 4.022509e-08\n",
      "numerical: 1.673934 analytic: 1.673934, relative error: 4.488849e-08\n",
      "numerical: -1.253666 analytic: -1.253666, relative error: 7.481943e-09\n",
      "numerical: 3.392739 analytic: 3.392739, relative error: 5.416347e-09\n",
      "numerical: -0.271751 analytic: -0.271751, relative error: 3.037156e-08\n",
      "numerical: 1.073399 analytic: 1.073399, relative error: 6.248800e-08\n",
      "numerical: 0.041813 analytic: 0.041813, relative error: 1.795290e-07\n",
      "numerical: -5.606708 analytic: -5.606708, relative error: 9.806367e-09\n",
      "numerical: 1.032971 analytic: 1.032971, relative error: 2.619030e-08\n",
      "numerical: 1.378450 analytic: 1.378450, relative error: 8.129656e-09\n"
     ]
    }
   ],
   "source": [
    "# Complete the implementation of softmax_loss_naive and implement a (naive)\n",
    "# version of the gradient that uses nested loops.\n",
    "loss, grad = softmax_loss_naive(W, X_dev, y_dev, 0.0)\n",
    "\n",
    "# As we did for the SVM, use numeric gradient checking as a debugging tool.\n",
    "# The numeric gradient should be close to the analytic gradient.\n",
    "from cs231n.gradient_check import grad_check_sparse\n",
    "f = lambda w: softmax_loss_naive(w, X_dev, y_dev, 0.0)[0]\n",
    "grad_numerical = grad_check_sparse(f, W, grad, 10)\n",
    "\n",
    "# similar to SVM case, do another gradient check with regularization\n",
    "loss, grad = softmax_loss_naive(W, X_dev, y_dev, 5e1)\n",
    "f = lambda w: softmax_loss_naive(w, X_dev, y_dev, 5e1)[0]\n",
    "grad_numerical = grad_check_sparse(f, W, grad, 10)"
   ]
  },
  {
   "cell_type": "code",
   "execution_count": 57,
   "metadata": {},
   "outputs": [
    {
     "name": "stdout",
     "output_type": "stream",
     "text": [
      "naive loss: 2.381299e+00 computed in 0.204925s\n",
      "vectorized loss: 2.381299e+00 computed in 0.003776s\n",
      "Loss difference: 0.000000\n",
      "Gradient difference: 0.000000\n"
     ]
    }
   ],
   "source": [
    "# Now that we have a naive implementation of the softmax loss function and its gradient,\n",
    "# implement a vectorized version in softmax_loss_vectorized.\n",
    "# The two versions should compute the same results, but the vectorized version should be\n",
    "# much faster.\n",
    "tic = time.time()\n",
    "loss_naive, grad_naive = softmax_loss_naive(W, X_dev, y_dev, 0.000005)\n",
    "toc = time.time()\n",
    "print('naive loss: %e computed in %fs' % (loss_naive, toc - tic))\n",
    "\n",
    "from cs231n.classifiers.softmax import softmax_loss_vectorized\n",
    "tic = time.time()\n",
    "loss_vectorized, grad_vectorized = softmax_loss_vectorized(W, X_dev, y_dev, 0.000005)\n",
    "toc = time.time()\n",
    "print('vectorized loss: %e computed in %fs' % (loss_vectorized, toc - tic))\n",
    "\n",
    "# As we did for the SVM, we use the Frobenius norm to compare the two versions\n",
    "# of the gradient.\n",
    "grad_difference = np.linalg.norm(grad_naive - grad_vectorized, ord='fro')\n",
    "print('Loss difference: %f' % np.abs(loss_naive - loss_vectorized))\n",
    "print('Gradient difference: %f' % grad_difference)"
   ]
  },
  {
   "cell_type": "code",
   "execution_count": 59,
   "metadata": {},
   "outputs": [
    {
     "name": "stdout",
     "output_type": "stream",
     "text": [
      "iteration 0 / 1500: loss 776.009571\n",
      "iteration 100 / 1500: loss 468.654801\n",
      "iteration 200 / 1500: loss 284.156392\n",
      "iteration 300 / 1500: loss 172.658895\n",
      "iteration 400 / 1500: loss 105.251207\n",
      "iteration 500 / 1500: loss 64.558046\n",
      "iteration 600 / 1500: loss 39.904914\n",
      "iteration 700 / 1500: loss 25.039074\n",
      "iteration 800 / 1500: loss 15.921348\n",
      "iteration 900 / 1500: loss 10.452290\n",
      "iteration 1000 / 1500: loss 7.208372\n",
      "iteration 1100 / 1500: loss 5.214025\n",
      "iteration 1200 / 1500: loss 3.959859\n",
      "iteration 1300 / 1500: loss 3.183517\n",
      "iteration 1400 / 1500: loss 2.759804\n",
      "training accuracy: 0.350000\n",
      "validation accuracy: 0.363000\n",
      "best validation accuracy: 0.363000\n",
      "iteration 0 / 1500: loss 1552.116143\n",
      "iteration 100 / 1500: loss 569.181043\n",
      "iteration 200 / 1500: loss 209.632823\n",
      "iteration 300 / 1500: loss 78.198024\n",
      "iteration 400 / 1500: loss 29.993601\n",
      "iteration 500 / 1500: loss 12.431407\n",
      "iteration 600 / 1500: loss 5.824667\n",
      "iteration 700 / 1500: loss 3.516919\n",
      "iteration 800 / 1500: loss 2.674559\n",
      "iteration 900 / 1500: loss 2.288532\n",
      "iteration 1000 / 1500: loss 2.221378\n",
      "iteration 1100 / 1500: loss 2.240167\n",
      "iteration 1200 / 1500: loss 2.140966\n",
      "iteration 1300 / 1500: loss 2.160594\n",
      "iteration 1400 / 1500: loss 2.144463\n",
      "training accuracy: 0.331102\n",
      "validation accuracy: 0.340000\n",
      "best validation accuracy: 0.363000\n",
      "iteration 0 / 1500: loss 779.732159\n",
      "iteration 100 / 1500: loss 64.094306\n",
      "iteration 200 / 1500: loss 7.061723\n",
      "iteration 300 / 1500: loss 2.487501\n",
      "iteration 400 / 1500: loss 2.192863\n",
      "iteration 500 / 1500: loss 2.112642\n",
      "iteration 600 / 1500: loss 2.105978\n",
      "iteration 700 / 1500: loss 2.061248\n",
      "iteration 800 / 1500: loss 2.097556\n",
      "iteration 900 / 1500: loss 2.138997\n",
      "iteration 1000 / 1500: loss 2.187793\n",
      "iteration 1100 / 1500: loss 2.137249\n",
      "iteration 1200 / 1500: loss 2.065794\n",
      "iteration 1300 / 1500: loss 2.163912\n",
      "iteration 1400 / 1500: loss 2.188304\n",
      "training accuracy: 0.352653\n",
      "validation accuracy: 0.357000\n",
      "best validation accuracy: 0.363000\n",
      "iteration 0 / 1500: loss 1546.898380\n",
      "iteration 100 / 1500: loss 11.815309\n",
      "iteration 200 / 1500: loss 2.249688\n",
      "iteration 300 / 1500: loss 2.168315\n",
      "iteration 400 / 1500: loss 2.177801\n",
      "iteration 500 / 1500: loss 2.208834\n",
      "iteration 600 / 1500: loss 2.194954\n",
      "iteration 700 / 1500: loss 2.160918\n",
      "iteration 800 / 1500: loss 2.139434\n",
      "iteration 900 / 1500: loss 2.206407\n",
      "iteration 1000 / 1500: loss 2.182031\n",
      "iteration 1100 / 1500: loss 2.235251\n",
      "iteration 1200 / 1500: loss 2.169108\n",
      "iteration 1300 / 1500: loss 2.205682\n",
      "iteration 1400 / 1500: loss 2.124139\n",
      "training accuracy: 0.320857\n",
      "validation accuracy: 0.334000\n",
      "best validation accuracy: 0.363000\n",
      "lr 1.000000e-07 reg 2.500000e+04 train accuracy: 0.350000 val accuracy: 0.363000\n",
      "lr 1.000000e-07 reg 5.000000e+04 train accuracy: 0.331102 val accuracy: 0.340000\n",
      "lr 5.000000e-07 reg 2.500000e+04 train accuracy: 0.352653 val accuracy: 0.357000\n",
      "lr 5.000000e-07 reg 5.000000e+04 train accuracy: 0.320857 val accuracy: 0.334000\n",
      "best validation accuracy achieved during cross-validation: 0.363000\n"
     ]
    }
   ],
   "source": [
    "# Use the validation set to tune hyperparameters (regularization strength and\n",
    "# learning rate). You should experiment with different ranges for the learning\n",
    "# rates and regularization strengths; if you are careful you should be able to\n",
    "# get a classification accuracy of over 0.35 on the validation set.\n",
    "from cs231n.classifiers import Softmax\n",
    "results = {}\n",
    "best_val = -1\n",
    "best_softmax = None\n",
    "learning_rates = [1e-7, 5e-7]\n",
    "regularization_strengths = [2.5e4, 5e4]\n",
    "\n",
    "################################################################################\n",
    "# TODO:                                                                        #\n",
    "# Use the validation set to set the learning rate and regularization strength. #\n",
    "# This should be identical to the validation that you did for the SVM; save    #\n",
    "# the best trained softmax classifer in best_softmax.                          #\n",
    "################################################################################\n",
    "for rate in learning_rates:\n",
    "    for reg in regularization_strengths:\n",
    "        \n",
    "        softmax = Softmax() \n",
    "        softmax.train(X_train, y_train, learning_rate=rate, reg=reg,\n",
    "                      num_iters=1500, batch_size = 200, verbose=True)\n",
    "        \n",
    "        y_train_pred = softmax.predict(X_train)\n",
    "        y_train_accuracy = np.mean(y_train == y_train_pred)\n",
    "        print('training accuracy: %f' % (np.mean(y_train == y_train_pred), ))\n",
    "        \n",
    "        y_val_pred = softmax.predict(X_val)\n",
    "        y_val_accuracy = np.mean(y_val == y_val_pred)\n",
    "        print('validation accuracy: %f' % (np.mean(y_val == y_val_pred), ))\n",
    "        \n",
    "        results[(rate,reg)] = (y_train_accuracy,y_val_accuracy)\n",
    "        \n",
    "        if y_val_accuracy > best_val:\n",
    "            best_val = y_val_accuracy\n",
    "            best_softmax = softmax\n",
    "        print('best validation accuracy: %f' % (best_val), )\n",
    "        \n",
    "        \n",
    "\n",
    "################################################################################\n",
    "#                              END OF YOUR CODE                                #\n",
    "################################################################################\n",
    "    \n",
    "# Print out results.\n",
    "for lr, reg in sorted(results):\n",
    "    train_accuracy, val_accuracy = results[(lr, reg)]\n",
    "    print('lr %e reg %e train accuracy: %f val accuracy: %f' % (\n",
    "                lr, reg, train_accuracy, val_accuracy))\n",
    "    \n",
    "print('best validation accuracy achieved during cross-validation: %f' % best_val)"
   ]
  },
  {
   "cell_type": "code",
   "execution_count": 60,
   "metadata": {},
   "outputs": [
    {
     "name": "stdout",
     "output_type": "stream",
     "text": [
      "softmax on raw pixels final test set accuracy: 0.358000\n"
     ]
    }
   ],
   "source": [
    "# evaluate on test set\n",
    "# Evaluate the best softmax on test set\n",
    "y_test_pred = best_softmax.predict(X_test)\n",
    "test_accuracy = np.mean(y_test == y_test_pred)\n",
    "print('softmax on raw pixels final test set accuracy: %f' % (test_accuracy, ))"
   ]
  },
  {
   "cell_type": "markdown",
   "metadata": {},
   "source": [
    "**Inline Question** - *True or False*\n",
    "\n",
    "It's possible to add a new datapoint to a training set that would leave the SVM loss unchanged, but this is not the case with the Softmax classifier loss.\n",
    "\n",
    "*Your answer*:\n",
    "\n",
    "*Your explanation*:"
   ]
  },
  {
   "cell_type": "code",
   "execution_count": 61,
   "metadata": {},
   "outputs": [
    {
     "data": {
      "image/png": "[encoded data removed]",
      "text/plain": [
       "<Figure size 432x288 with 10 Axes>"
      ]
     },
     "metadata": {},
     "output_type": "display_data"
    }
   ],
   "source": [
    "# Visualize the learned weights for each class\n",
    "w = best_softmax.W[:-1,:] # strip out the bias\n",
    "w = w.reshape(32, 32, 3, 10)\n",
    "\n",
    "w_min, w_max = np.min(w), np.max(w)\n",
    "\n",
    "classes = ['plane', 'car', 'bird', 'cat', 'deer', 'dog', 'frog', 'horse', 'ship', 'truck']\n",
    "for i in range(10):\n",
    "    plt.subplot(2, 5, i + 1)\n",
    "    \n",
    "    # Rescale the weights to be between 0 and 255\n",
    "    wimg = 255.0 * (w[:, :, :, i].squeeze() - w_min) / (w_max - w_min)\n",
    "    plt.imshow(wimg.astype('uint8'))\n",
    "    plt.axis('off')\n",
    "    plt.title(classes[i])"
   ]
  }
 ],
 "metadata": {
  "kernelspec": {
   "display_name": "Python 3",
   "language": "python",
   "name": "python3"
  },
  "language_info": {
   "codemirror_mode": {
    "name": "ipython",
    "version": 3
   },
   "file_extension": ".py",
   "mimetype": "text/x-python",
   "name": "python",
   "nbconvert_exporter": "python",
   "pygments_lexer": "ipython3",
   "version": "3.6.5"
  }
 },
 "nbformat": 4,
 "nbformat_minor": 1
}
